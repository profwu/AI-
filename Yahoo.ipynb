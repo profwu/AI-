{
 "cells": [
  {
   "cell_type": "code",
   "execution_count": 1,
   "metadata": {},
   "outputs": [
    {
     "name": "stdout",
     "output_type": "stream",
     "text": [
      "標題：NBA主席不道歉 發聲明提台北\n",
      "網址：https://tw.news.yahoo.com/nba-%E4%B8%8D%E6%9C%83%E5%B0%8D%E8%8E%AB%E9%9B%B7%E7%99%BC%E8%A8%80%E9%81%93%E6%AD%89-%E5%B8%AD%E4%BD%9B%E5%86%8D%E7%99%BC%E8%81%B2%E6%98%8E%E6%8F%90%E5%8F%B0%E5%8C%97-121221013.html\n",
      "標題：毀台大連儂牆 陸男遭驅逐出境\n",
      "網址：https://tw.news.yahoo.com/%E6%92%95%E6%AF%80%E9%80%A3%E5%84%82%E7%89%86-%E9%99%B8%E7%94%B7%E6%81%90%E5%88%97%E4%B8%8D%E5%8F%97%E6%AD%A1%E8%BF%8E%E4%BA%BA%E7%89%A9-123011767.html\n",
      "標題：「安倍賀電」爆烏龍 蘇揆臉黑\n",
      "網址：https://tw.news.yahoo.com/%E5%AE%89%E5%80%8D%E8%B3%80%E9%9B%BB%E7%A5%9D%E4%B8%AD%E8%8F%AF%E6%B0%91%E5%9C%8B%E5%9C%8B%E6%85%B6-%E7%A6%8F%E5%B2%A1%E5%A4%96%E9%A4%A8%E6%90%9E%E7%83%8F%E9%BE%8D%E9%81%AD%E6%97%A5%E6%9C%AC%E6%89%93%E8%87%89-050256236.html\n",
      "標題：小英出手「國民黨恐賠光家產」\n",
      "網址：https://tw.news.yahoo.com/%E9%9F%93%E6%B0%91%E8%AA%BF%E4%B8%8B%E8%B7%8C-%E8%94%A1%E7%8B%82%E6%8C%96%E5%B7%A5%E5%95%86%E7%95%8C-%E5%9C%8B%E6%B0%91%E9%BB%A82020%E6%81%90%E8%B3%A0%E5%85%89%E5%AE%B6%E7%94%A2-045200322.html\n",
      "標題：NBA無法割捨的中國「大餅」\n",
      "網址：https://tw.news.yahoo.com/-yahoo%E8%AB%96%E5%A3%87%E5%9A%B4%E9%9C%87%E7%94%9F-nba%E7%84%A1%E6%B3%95%E5%89%B2%E6%8D%A8%E7%9A%84%E4%B8%AD%E5%9C%8B%E5%A4%A7%E9%A4%85-094601382.html\n",
      "標題：被天敵橫掃 雙城悲情放假去了\n",
      "網址：https://tw.news.yahoo.com/mlb-%E6%B4%8B%E5%9F%BA%E4%B8%89%E9%80%A3%E5%8B%9D%E6%A9%AB%E6%8E%83%E9%9B%99%E5%9F%8E-%E7%8E%87%E5%85%88%E6%99%89%E7%B4%9A%E7%BE%8E%E8%81%AF%E5%86%A0%E8%BB%8D%E8%B3%BD-092631706.html\n",
      "標題：大復活？富爾茲「吃掉」玫瑰\n",
      "網址：https://tw.news.yahoo.com/nba-%E7%B2%BE%E5%BD%A9%E6%9A%B4%E6%89%A3-%E7%BD%95%E7%97%85%E7%8B%80%E5%85%83%E5%A4%A7%E5%BE%A9%E6%B4%BB-081045887.html\n",
      "標題：小胖拚總冠軍：每場都當最終戰\n",
      "網址：https://tw.sports.yahoo.com/news/%E4%B8%AD%E8%81%B7-%E5%82%99%E6%88%B0%E7%B8%BD%E5%86%A0%E8%BB%8D%E6%88%B0-%E6%9E%97%E6%B3%93%E8%82%B2-%E6%AF%8F%E5%A0%B4%E9%83%BD%E7%95%B6%E6%9C%80%E7%B5%82%E6%88%B0-113309286.html\n",
      "標題：內線傷光光 勇士緊急簽人補強\n",
      "網址：https://tw.sports.yahoo.com/news/%E5%8B%87%E5%A3%AB%E7%B7%8A%E6%80%A5%E7%B0%BD%E4%B8%8Bpippe-n%E4%BE%84%E5%AD%90%E8%A3%9C%E5%BC%B7%E5%85%A7%E7%B7%9A%E8%BA%AB%E9%AB%98-208-%E5%85%AC%E5%88%86%E5%A0%B4%E5%9D%87-17-%E7%81%AB%E9%8D%8B-%E5%BD%B1-103536230.html\n",
      "標題：變化球很會跑 摩頓賞前東家9K\n",
      "網址：https://tw.news.yahoo.com/mlb-%E6%9B%B2%E7%90%83%E5%92%8C%E4%BC%B8%E5%8D%A1%E7%90%83%E5%BE%88%E6%9C%83%E8%B7%91-%E6%91%A9%E9%A0%93%E8%B3%9E%E5%A4%AA%E7%A9%BA%E4%BA%BA9k-075447394.html\n",
      "標題：被嗆「求償可悲」馬俊麟妻反擊\n",
      "網址：https://tw.news.yahoo.com/%E9%81%AD%E5%97%86%E6%B1%82%E5%84%9F-400-%E8%90%AC%E5%BE%88%E5%8F%AF%E6%82%B2-%E9%A6%AC%E4%BF%8A%E9%BA%9F%E5%A6%BB%E5%9B%9E%E6%93%8A%E6%88%91%E5%80%91%E4%B9%8B%E5%BE%8C%E6%9C%83%E8%A6%8B%E9%9D%A2%E7%9A%84-102014039.html\n",
      "標題：新戲險GG 米倉涼子爆患怪病\n",
      "網址：https://tw.news.yahoo.com/%E5%B7%AE%E9%BB%9E%E6%BC%94%E4%B8%8D%E6%88%90-%E6%B4%BE%E9%81%A36-%E7%B1%B3%E5%80%89%E6%B6%BC%E5%AD%90%E7%AA%81%E6%82%A3%E6%80%AA%E7%97%85-064801964.html\n",
      "標題：認了臉有動過！韋汝舊照曝光\n",
      "網址：https://tw.news.yahoo.com/%E9%9F%8B%E6%B1%9D%E8%AA%8D%E4%BA%86%E6%9C%89%E5%8B%95%E8%87%89-%E8%88%8A%E7%85%A7%E6%9B%9D%E5%85%89%E7%B6%B2%E5%8F%8B%E7%9C%8B%E5%82%BB%E7%9C%BC-053004636.html\n",
      "標題：粉絲震驚！林宥嘉：暫別螢光幕\n",
      "網址：https://tw.news.yahoo.com/%E6%9E%97%E5%AE%A5%E5%98%89%E6%B7%B1%E5%A4%9C%E5%AE%A3%E5%B8%83-%E6%9A%AB%E5%88%A5%E8%9E%A2%E5%85%89%E5%B9%95-%E7%B2%89%E7%B5%B2%E4%B8%8D%E6%8D%A8-%E6%9C%83%E7%85%A7%E4%B8%89%E9%A4%90%E6%83%B3%E4%BD%A0-031238630.html\n",
      "標題：涉販毒被查獲 高盟傑被羈押了\n",
      "網址：https://tw.news.yahoo.com/%E7%94%98%E5%91%B3%E7%94%B7%E6%98%9F%E8%B2%A9%E6%AF%92%E8%A2%AB%E6%9F%A5%E7%8D%B2-%E6%AA%A2%E8%81%B2%E8%AB%8B%E5%BB%B6%E6%8A%BC%E7%8D%B2%E5%87%86-074422735.html\n",
      "標題：閨密當伴娘 婚禮她見43張毀了\n",
      "網址：https://bit.ly/2LVWW79\n",
      "標題：求繳械再戰尪傻 婆：那個會苦\n",
      "網址：https://bit.ly/2Vvc3I8\n",
      "標題：挖寶撈上億 天降這顆他臉綠\n",
      "網址：https://yahoo.wakool.net/game/info/2000000194#1008im\n",
      "標題：如何區分台陸客？日人1句讚爆\n",
      "網址：https://bit.ly/2IwKXLm\n",
      "標題：2500支挺51天 黃色1幕台人搶拍\n",
      "網址：https://bit.ly/30X8vPY\n",
      "標題：hTC要掰了？新CEO認重大決定\n",
      "網址：https://tw.news.yahoo.com/htc%E5%B7%B2%E5%81%9C%E6%AD%A2%E6%89%8B%E6%A9%9F%E7%A1%AC%E9%AB%94%E5%89%B5%E6%96%B0-%E6%96%B0%E4%BB%BBceo-%E8%81%9A%E7%84%A65g%E6%87%89%E7%94%A8-072240381.html#1008ac\n",
      "標題：讓女友進自己公司 後果超級慘\n",
      "網址：https://tw.news.yahoo.com/-yahoo%E8%AB%96%E5%A3%87%E6%B4%AA%E9%9B%AA%E7%8F%8D%E7%AB%8B%E5%BF%97%E7%95%B6%E8%80%81%E9%97%86%E5%A8%98%E7%9A%84%E5%A5%B3%E7%94%9F%E6%B8%85%E9%86%92%E5%90%A7%E7%94%B7%E4%BA%BA%E5%89%B5%E6%A5%AD%E4%B8%8D%E4%B8%80%E5%AE%9A%E8%A6%81%E6%9C%89%E8%B3%A2%E5%85%A7%E5%8A%A9%E5%85%AC%E5%A9%86%E7%9A%84%E4%BA%8B%E6%A5%AD%E4%B8%8D%E4%B8%80%E5%AE%9A%E8%A6%81%E8%AE%93%E4%BD%A0%E6%8E%A5-yahoo%E8%AB%96%E5%A3%87%E6%B4%AA%E9%9B%AA%E7%8F%8D%E7%AB%8B%E5%BF%97%E7%95%B6%E8%80%81%E9%97%86%E5%A8%98%E7%9A%84%E5%A5%B3%E7%94%9F%E6%B8%85%E9%86%92%E5%90%A7%E7%94%B7%E4%BA%BA%E5%89%B5%E6%A5%AD%E4%B8%8D%E4%B8%80%E5%AE%9A%E8%A6%81%E6%9C%89%E8%B3%A2%E5%85%A7%E5%8A%A9%E5%85%AC%E5%A9%86%E7%9A%84%E4%BA%8B%E6%A5%AD%E4%B8%8D%E4%B8%80%E5%AE%9A%E8%A6%81%E8%AE%93%E4%BD%A0%E6%8E%A5-110034030.html#1008ac\n",
      "標題：荒唐第一夫人 入獄還拍不雅照\n",
      "網址：https://style.yahoo.com.tw/%E5%BE%9E%E8%97%9D%E5%A6%93%E5%88%B0%E7%B8%BD%E7%B5%B1%E5%A4%AB%E4%BA%BA-%E7%94%9A%E8%87%B3%E5%9D%90%E9%81%8E%E7%89%A2-%E6%8B%8D%E8%A3%B8%E7%85%A7-%E6%97%A5%E6%9C%AC79%E6%AD%B2%E9%BB%9B%E8%96%87%E5%A4%AB%E4%BA%BA-%E6%B4%BB%E8%91%97%E5%B0%B1%E8%A6%81%E7%9B%A1%E8%88%88-000000359.html#1008ac\n",
      "標題：3女星癌逝 專家警告別碰一食\n",
      "網址：https://www.edh.tw/article/22801#1008ac\n",
      "標題：百元神物 Selina昆凌都是鐵粉\n",
      "網址：https://style.yahoo.com.tw/selina%E8%AD%B7%E5%94%87%E6%9C%80%E6%84%9B%E6%9C%A8%E7%93%9C%E9%9C%9C-10%E7%A8%AE%E6%9C%A8%E7%93%9C%E9%9C%9C%E7%A5%9E%E7%94%A8%E6%B3%95%E8%B6%85%E5%B1%95%E9%96%8B-000000314.html#1008ac\n",
      "標題：討厭瑞凡！天心一句話釋懷\n",
      "網址：https://tw.news.yahoo.com/video/%E9%8F%A1%E5%A4%A7%E5%92%96-%E6%88%B2%E8%B7%AF%E4%B8%8D%E5%86%8D%E5%AF%84%E7%94%9F%E4%B8%8A%E6%B5%81-%E6%BA%AB%E6%98%87%E8%B1%AA-233000525.html#1008hh\n",
      "標題：台女狂嗑6kg…吃完1幕老外傻\n",
      "網址：https://www.litv.tv/vod/show/content.do?content_id=VOD00157158&sponsorName=eWFob28=&autoPlay=1#1008hh\n",
      "標題：這星座離婚保證？GiGi囧認…\n",
      "網址：https://www.litv.tv/vod/show/content.do?content_id=VOD00159820&sponsorName=eWFob28=&autoPlay=1#1008hh\n",
      "標題：寵物養這隻？戰鬥民族也怕了\n",
      "網址：https://tw.tv.yahoo.com/ycreators/%E6%88%B0%E9%AC%A5%E6%B0%91%E6%97%8F%E9%83%BD%E8%B7%9F%E7%86%8A%E6%89%93%E6%9E%B6%E5%97%8E-%E5%AF%A6%E9%9A%9B%E8%A8%AA%E5%95%8F%E7%A0%B4%E8%A7%A3%E4%BF%84%E7%BE%85%E6%96%AF9%E5%A4%A7%E8%BF%B7%E6%80%9D-141126938.html#1008hh\n",
      "標題：超狂婆婆她！開口一求台媳讚\n",
      "網址：https://tw.tv.yahoo.com/ycreators/%E5%A9%86%E5%AA%B3%E5%95%8F%E9%A1%8C%E5%A9%86%E5%A9%86%E5%A4%A7%E5%8F%8D%E6%93%8A-%E5%9C%A8%E5%AE%B6%E7%AB%9F%E7%84%B6%E5%81%9A%E7%9A%84%E9%83%BD%E6%98%AF%E9%80%99%E4%BA%9B%E5%B7%A5%E4%BD%9C-070632167.html#1008hh\n"
     ]
    }
   ],
   "source": [
    "import requests\n",
    "from bs4 import BeautifulSoup\n",
    "\n",
    "# 下載 Yahoo 首頁內容\n",
    "r = requests.get('https://tw.yahoo.com/')\n",
    "\n",
    "# 確認是否下載成功\n",
    "if r.status_code == requests.codes.ok:\n",
    "  # 以 BeautifulSoup 解析 HTML 程式碼\n",
    "  soup = BeautifulSoup(r.text, 'html.parser')\n",
    "\n",
    "  # 以 CSS 的 class 抓出各類頭條新聞\n",
    "  stories = soup.find_all('a', class_='story-title')\n",
    "  for s in stories:\n",
    "    # 新聞標題\n",
    "    print(\"標題：\" + s.text)\n",
    "    # 新聞網址\n",
    "    print(\"網址：\" + s.get('href'))"
   ]
  }
 ],
 "metadata": {
  "kernelspec": {
   "display_name": "Python 3",
   "language": "python",
   "name": "python3"
  },
  "language_info": {
   "codemirror_mode": {
    "name": "ipython",
    "version": 3
   },
   "file_extension": ".py",
   "mimetype": "text/x-python",
   "name": "python",
   "nbconvert_exporter": "python",
   "pygments_lexer": "ipython3",
   "version": "3.5.6"
  }
 },
 "nbformat": 4,
 "nbformat_minor": 2
}
